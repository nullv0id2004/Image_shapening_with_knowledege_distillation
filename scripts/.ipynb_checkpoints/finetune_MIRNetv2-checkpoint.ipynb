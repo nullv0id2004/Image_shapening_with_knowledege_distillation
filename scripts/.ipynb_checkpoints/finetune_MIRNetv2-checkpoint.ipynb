{
 "cells": [
  {
   "cell_type": "code",
   "execution_count": 14,
   "id": "c0202451-2e9d-4d3b-8444-49e3cc4d708c",
   "metadata": {},
   "outputs": [],
   "source": [
    "import os\n",
    "import sys\n",
    "import torch\n",
    "import torch.nn as nn\n",
    "import numpy as np\n",
    "from torch.utils.data import Dataset, DataLoader\n",
    "import cv2\n",
    "from pathlib import Path\n",
    "from tqdm import tqdm\n",
    "from torchvision import transforms"
   ]
  },
  {
   "cell_type": "code",
   "execution_count": 15,
   "id": "3be6221c-e0fc-4635-87c1-d3f6a92b3ff0",
   "metadata": {},
   "outputs": [],
   "source": [
    "mirnetv2_repo_path = os.path.abspath(os.path.join(os.getcwd(), '..', 'MIRNetv2'))\n",
    "if mirnetv2_repo_path not in sys.path:\n",
    "    sys.path.insert(0, mirnetv2_repo_path)"
   ]
  },
  {
   "cell_type": "code",
   "execution_count": 16,
   "id": "69ac0569-67e1-4a36-89e4-eae3c39cfbc1",
   "metadata": {},
   "outputs": [],
   "source": [
    "from basicsr.archs.mirnet_v2_arch import MIRNet_v2"
   ]
  },
  {
   "cell_type": "code",
   "execution_count": 17,
   "id": "ffba9c7b-3748-4fd8-a50f-3335ebf28486",
   "metadata": {},
   "outputs": [],
   "source": [
    "data_root  = Path(\"../data/patches\")\n",
    "hr_dir = data_root / \"HR_patches\"\n",
    "lr_dir = data_root / \"mixed_LR_patches\""
   ]
  },
  {
   "cell_type": "code",
   "execution_count": 18,
   "id": "66693d5a-a093-490e-9348-6fb75621bc92",
   "metadata": {},
   "outputs": [],
   "source": [
    "device = torch.device(\"cuda\" if torch.cuda.is_available() else \"cpu\")\n",
    "patch_size = 192\n",
    "batch_size = 8\n",
    "num_epochs = 10\n",
    "learning_rate = 1e-5"
   ]
  },
  {
   "cell_type": "code",
   "execution_count": 19,
   "id": "7e47744e-a790-47e2-a2f9-bf1c0b15119c",
   "metadata": {},
   "outputs": [],
   "source": [
    "class PatchDataset(Dataset):\n",
    "    def __init__(self,lr_dir,hr_dir):\n",
    "        self.lr_dir = Path(lr_dir)\n",
    "        self.hr_dir = Path(hr_dir)\n",
    "        self.files = list(self.lr_dir.glob(\"*.png\"))\n",
    "        self.to_tensor = transforms.ToTensor()\n",
    "\n",
    "    def __len__(self):\n",
    "        return len(self.files)\n",
    "\n",
    "    def __getitem__(self, idx):\n",
    "        lr_path = self.files[idx]\n",
    "        hr_path = Path(self.hr_dir) / lr_path.name\n",
    "        lr_img = cv2.imread(str(lr_path))\n",
    "        hr_img = cv2.imread(str(hr_path))\n",
    "        lr_img = cv2.cvtColor(lr_img, cv2.COLOR_BGR2RGB)\n",
    "        hr_img = cv2.cvtColor(hr_img, cv2.COLOR_BGR2RGB)\n",
    "        lr_tensor = self.to_tensor(lr_img)\n",
    "        hr_tensor = self.to_tensor(hr_img)\n",
    "        return lr_tensor, hr_tensor"
   ]
  },
  {
   "cell_type": "code",
   "execution_count": 20,
   "id": "c6fee8fd-d683-4193-9b89-0d981c4165d3",
   "metadata": {},
   "outputs": [],
   "source": [
    "dataset = PatchDataset(lr_dir,hr_dir)\n",
    "dataloader = DataLoader(dataset, batch_size=batch_size, shuffle=True, num_workers=2, pin_memory=True)"
   ]
  },
  {
   "cell_type": "code",
   "execution_count": 21,
   "id": "543c5dbf-74ac-45e7-9aee-ce94f2011483",
   "metadata": {},
   "outputs": [],
   "source": [
    "model = MIRNet_v2().to(device)"
   ]
  },
  {
   "cell_type": "code",
   "execution_count": 27,
   "id": "85f3da8a-659c-4fae-a43b-94c42e588ea1",
   "metadata": {},
   "outputs": [
    {
     "ename": "RuntimeError",
     "evalue": "Error(s) in loading state_dict for MIRNet_v2:\n\tMissing key(s) in state_dict: \"conv_in.weight\", \"body.0.body.0.dau_top.body.0.weight\", \"body.0.body.0.dau_top.body.2.weight\", \"body.0.body.0.dau_top.gcnet.conv_mask.weight\", \"body.0.body.0.dau_top.gcnet.channel_add_conv.0.weight\", \"body.0.body.0.dau_top.gcnet.channel_add_conv.2.weight\", \"body.0.body.0.dau_mid.body.0.weight\", \"body.0.body.0.dau_mid.body.2.weight\", \"body.0.body.0.dau_mid.gcnet.conv_mask.weight\", \"body.0.body.0.dau_mid.gcnet.channel_add_conv.0.weight\", \"body.0.body.0.dau_mid.gcnet.channel_add_conv.2.weight\", \"body.0.body.0.dau_bot.body.0.weight\", \"body.0.body.0.dau_bot.body.2.weight\", \"body.0.body.0.dau_bot.gcnet.conv_mask.weight\", \"body.0.body.0.dau_bot.gcnet.channel_add_conv.0.weight\", \"body.0.body.0.dau_bot.gcnet.channel_add_conv.2.weight\", \"body.0.body.0.down2.body.0.bot.1.weight\", \"body.0.body.0.down4.0.body.0.bot.1.weight\", \"body.0.body.0.down4.1.body.0.bot.1.weight\", \"body.0.body.0.up21_1.body.0.bot.0.weight\", \"body.0.body.0.up21_2.body.0.bot.0.weight\", \"body.0.body.0.up32_1.body.0.bot.0.weight\", \"body.0.body.0.up32_2.body.0.bot.0.weight\", \"body.0.body.0.conv_out.weight\", \"body.0.body.0.skff_top.conv_du.0.weight\", \"body.0.body.0.skff_top.fcs.0.weight\", \"body.0.body.0.skff_top.fcs.1.weight\", \"body.0.body.0.skff_mid.conv_du.0.weight\", \"body.0.body.0.skff_mid.fcs.0.weight\", \"body.0.body.0.skff_mid.fcs.1.weight\", \"body.0.body.1.dau_top.body.0.weight\", \"body.0.body.1.dau_top.body.2.weight\", \"body.0.body.1.dau_top.gcnet.conv_mask.weight\", \"body.0.body.1.dau_top.gcnet.channel_add_conv.0.weight\", \"body.0.body.1.dau_top.gcnet.channel_add_conv.2.weight\", \"body.0.body.1.dau_mid.body.0.weight\", \"body.0.body.1.dau_mid.body.2.weight\", \"body.0.body.1.dau_mid.gcnet.conv_mask.weight\", \"body.0.body.1.dau_mid.gcnet.channel_add_conv.0.weight\", \"body.0.body.1.dau_mid.gcnet.channel_add_conv.2.weight\", \"body.0.body.1.dau_bot.body.0.weight\", \"body.0.body.1.dau_bot.body.2.weight\", \"body.0.body.1.dau_bot.gcnet.conv_mask.weight\", \"body.0.body.1.dau_bot.gcnet.channel_add_conv.0.weight\", \"body.0.body.1.dau_bot.gcnet.channel_add_conv.2.weight\", \"body.0.body.1.down2.body.0.bot.1.weight\", \"body.0.body.1.down4.0.body.0.bot.1.weight\", \"body.0.body.1.down4.1.body.0.bot.1.weight\", \"body.0.body.1.up21_1.body.0.bot.0.weight\", \"body.0.body.1.up21_2.body.0.bot.0.weight\", \"body.0.body.1.up32_1.body.0.bot.0.weight\", \"body.0.body.1.up32_2.body.0.bot.0.weight\", \"body.0.body.1.conv_out.weight\", \"body.0.body.1.skff_top.conv_du.0.weight\", \"body.0.body.1.skff_top.fcs.0.weight\", \"body.0.body.1.skff_top.fcs.1.weight\", \"body.0.body.1.skff_mid.conv_du.0.weight\", \"body.0.body.1.skff_mid.fcs.0.weight\", \"body.0.body.1.skff_mid.fcs.1.weight\", \"body.0.body.2.weight\", \"body.1.body.0.dau_top.body.0.weight\", \"body.1.body.0.dau_top.body.2.weight\", \"body.1.body.0.dau_top.gcnet.conv_mask.weight\", \"body.1.body.0.dau_top.gcnet.channel_add_conv.0.weight\", \"body.1.body.0.dau_top.gcnet.channel_add_conv.2.weight\", \"body.1.body.0.dau_mid.body.0.weight\", \"body.1.body.0.dau_mid.body.2.weight\", \"body.1.body.0.dau_mid.gcnet.conv_mask.weight\", \"body.1.body.0.dau_mid.gcnet.channel_add_conv.0.weight\", \"body.1.body.0.dau_mid.gcnet.channel_add_conv.2.weight\", \"body.1.body.0.dau_bot.body.0.weight\", \"body.1.body.0.dau_bot.body.2.weight\", \"body.1.body.0.dau_bot.gcnet.conv_mask.weight\", \"body.1.body.0.dau_bot.gcnet.channel_add_conv.0.weight\", \"body.1.body.0.dau_bot.gcnet.channel_add_conv.2.weight\", \"body.1.body.0.down2.body.0.bot.1.weight\", \"body.1.body.0.down4.0.body.0.bot.1.weight\", \"body.1.body.0.down4.1.body.0.bot.1.weight\", \"body.1.body.0.up21_1.body.0.bot.0.weight\", \"body.1.body.0.up21_2.body.0.bot.0.weight\", \"body.1.body.0.up32_1.body.0.bot.0.weight\", \"body.1.body.0.up32_2.body.0.bot.0.weight\", \"body.1.body.0.conv_out.weight\", \"body.1.body.0.skff_top.conv_du.0.weight\", \"body.1.body.0.skff_top.fcs.0.weight\", \"body.1.body.0.skff_top.fcs.1.weight\", \"body.1.body.0.skff_mid.conv_du.0.weight\", \"body.1.body.0.skff_mid.fcs.0.weight\", \"body.1.body.0.skff_mid.fcs.1.weight\", \"body.1.body.1.dau_top.body.0.weight\", \"body.1.body.1.dau_top.body.2.weight\", \"body.1.body.1.dau_top.gcnet.conv_mask.weight\", \"body.1.body.1.dau_top.gcnet.channel_add_conv.0.weight\", \"body.1.body.1.dau_top.gcnet.channel_add_conv.2.weight\", \"body.1.body.1.dau_mid.body.0.weight\", \"body.1.body.1.dau_mid.body.2.weight\", \"body.1.body.1.dau_mid.gcnet.conv_mask.weight\", \"body.1.body.1.dau_mid.gcnet.channel_add_conv.0.weight\", \"body.1.body.1.dau_mid.gcnet.channel_add_conv.2.weight\", \"body.1.body.1.dau_bot.body.0.weight\", \"body.1.body.1.dau_bot.body.2.weight\", \"body.1.body.1.dau_bot.gcnet.conv_mask.weight\", \"body.1.body.1.dau_bot.gcnet.channel_add_conv.0.weight\", \"body.1.body.1.dau_bot.gcnet.channel_add_conv.2.weight\", \"body.1.body.1.down2.body.0.bot.1.weight\", \"body.1.body.1.down4.0.body.0.bot.1.weight\", \"body.1.body.1.down4.1.body.0.bot.1.weight\", \"body.1.body.1.up21_1.body.0.bot.0.weight\", \"body.1.body.1.up21_2.body.0.bot.0.weight\", \"body.1.body.1.up32_1.body.0.bot.0.weight\", \"body.1.body.1.up32_2.body.0.bot.0.weight\", \"body.1.body.1.conv_out.weight\", \"body.1.body.1.skff_top.conv_du.0.weight\", \"body.1.body.1.skff_top.fcs.0.weight\", \"body.1.body.1.skff_top.fcs.1.weight\", \"body.1.body.1.skff_mid.conv_du.0.weight\", \"body.1.body.1.skff_mid.fcs.0.weight\", \"body.1.body.1.skff_mid.fcs.1.weight\", \"body.1.body.2.weight\", \"body.2.body.0.dau_top.body.0.weight\", \"body.2.body.0.dau_top.body.2.weight\", \"body.2.body.0.dau_top.gcnet.conv_mask.weight\", \"body.2.body.0.dau_top.gcnet.channel_add_conv.0.weight\", \"body.2.body.0.dau_top.gcnet.channel_add_conv.2.weight\", \"body.2.body.0.dau_mid.body.0.weight\", \"body.2.body.0.dau_mid.body.2.weight\", \"body.2.body.0.dau_mid.gcnet.conv_mask.weight\", \"body.2.body.0.dau_mid.gcnet.channel_add_conv.0.weight\", \"body.2.body.0.dau_mid.gcnet.channel_add_conv.2.weight\", \"body.2.body.0.dau_bot.body.0.weight\", \"body.2.body.0.dau_bot.body.2.weight\", \"body.2.body.0.dau_bot.gcnet.conv_mask.weight\", \"body.2.body.0.dau_bot.gcnet.channel_add_conv.0.weight\", \"body.2.body.0.dau_bot.gcnet.channel_add_conv.2.weight\", \"body.2.body.0.down2.body.0.bot.1.weight\", \"body.2.body.0.down4.0.body.0.bot.1.weight\", \"body.2.body.0.down4.1.body.0.bot.1.weight\", \"body.2.body.0.up21_1.body.0.bot.0.weight\", \"body.2.body.0.up21_2.body.0.bot.0.weight\", \"body.2.body.0.up32_1.body.0.bot.0.weight\", \"body.2.body.0.up32_2.body.0.bot.0.weight\", \"body.2.body.0.conv_out.weight\", \"body.2.body.0.skff_top.conv_du.0.weight\", \"body.2.body.0.skff_top.fcs.0.weight\", \"body.2.body.0.skff_top.fcs.1.weight\", \"body.2.body.0.skff_mid.conv_du.0.weight\", \"body.2.body.0.skff_mid.fcs.0.weight\", \"body.2.body.0.skff_mid.fcs.1.weight\", \"body.2.body.1.dau_top.body.0.weight\", \"body.2.body.1.dau_top.body.2.weight\", \"body.2.body.1.dau_top.gcnet.conv_mask.weight\", \"body.2.body.1.dau_top.gcnet.channel_add_conv.0.weight\", \"body.2.body.1.dau_top.gcnet.channel_add_conv.2.weight\", \"body.2.body.1.dau_mid.body.0.weight\", \"body.2.body.1.dau_mid.body.2.weight\", \"body.2.body.1.dau_mid.gcnet.conv_mask.weight\", \"body.2.body.1.dau_mid.gcnet.channel_add_conv.0.weight\", \"body.2.body.1.dau_mid.gcnet.channel_add_conv.2.weight\", \"body.2.body.1.dau_bot.body.0.weight\", \"body.2.body.1.dau_bot.body.2.weight\", \"body.2.body.1.dau_bot.gcnet.conv_mask.weight\", \"body.2.body.1.dau_bot.gcnet.channel_add_conv.0.weight\", \"body.2.body.1.dau_bot.gcnet.channel_add_conv.2.weight\", \"body.2.body.1.down2.body.0.bot.1.weight\", \"body.2.body.1.down4.0.body.0.bot.1.weight\", \"body.2.body.1.down4.1.body.0.bot.1.weight\", \"body.2.body.1.up21_1.body.0.bot.0.weight\", \"body.2.body.1.up21_2.body.0.bot.0.weight\", \"body.2.body.1.up32_1.body.0.bot.0.weight\", \"body.2.body.1.up32_2.body.0.bot.0.weight\", \"body.2.body.1.conv_out.weight\", \"body.2.body.1.skff_top.conv_du.0.weight\", \"body.2.body.1.skff_top.fcs.0.weight\", \"body.2.body.1.skff_top.fcs.1.weight\", \"body.2.body.1.skff_mid.conv_du.0.weight\", \"body.2.body.1.skff_mid.fcs.0.weight\", \"body.2.body.1.skff_mid.fcs.1.weight\", \"body.2.body.2.weight\", \"body.3.body.0.dau_top.body.0.weight\", \"body.3.body.0.dau_top.body.2.weight\", \"body.3.body.0.dau_top.gcnet.conv_mask.weight\", \"body.3.body.0.dau_top.gcnet.channel_add_conv.0.weight\", \"body.3.body.0.dau_top.gcnet.channel_add_conv.2.weight\", \"body.3.body.0.dau_mid.body.0.weight\", \"body.3.body.0.dau_mid.body.2.weight\", \"body.3.body.0.dau_mid.gcnet.conv_mask.weight\", \"body.3.body.0.dau_mid.gcnet.channel_add_conv.0.weight\", \"body.3.body.0.dau_mid.gcnet.channel_add_conv.2.weight\", \"body.3.body.0.dau_bot.body.0.weight\", \"body.3.body.0.dau_bot.body.2.weight\", \"body.3.body.0.dau_bot.gcnet.conv_mask.weight\", \"body.3.body.0.dau_bot.gcnet.channel_add_conv.0.weight\", \"body.3.body.0.dau_bot.gcnet.channel_add_conv.2.weight\", \"body.3.body.0.down2.body.0.bot.1.weight\", \"body.3.body.0.down4.0.body.0.bot.1.weight\", \"body.3.body.0.down4.1.body.0.bot.1.weight\", \"body.3.body.0.up21_1.body.0.bot.0.weight\", \"body.3.body.0.up21_2.body.0.bot.0.weight\", \"body.3.body.0.up32_1.body.0.bot.0.weight\", \"body.3.body.0.up32_2.body.0.bot.0.weight\", \"body.3.body.0.conv_out.weight\", \"body.3.body.0.skff_top.conv_du.0.weight\", \"body.3.body.0.skff_top.fcs.0.weight\", \"body.3.body.0.skff_top.fcs.1.weight\", \"body.3.body.0.skff_mid.conv_du.0.weight\", \"body.3.body.0.skff_mid.fcs.0.weight\", \"body.3.body.0.skff_mid.fcs.1.weight\", \"body.3.body.1.dau_top.body.0.weight\", \"body.3.body.1.dau_top.body.2.weight\", \"body.3.body.1.dau_top.gcnet.conv_mask.weight\", \"body.3.body.1.dau_top.gcnet.channel_add_conv.0.weight\", \"body.3.body.1.dau_top.gcnet.channel_add_conv.2.weight\", \"body.3.body.1.dau_mid.body.0.weight\", \"body.3.body.1.dau_mid.body.2.weight\", \"body.3.body.1.dau_mid.gcnet.conv_mask.weight\", \"body.3.body.1.dau_mid.gcnet.channel_add_conv.0.weight\", \"body.3.body.1.dau_mid.gcnet.channel_add_conv.2.weight\", \"body.3.body.1.dau_bot.body.0.weight\", \"body.3.body.1.dau_bot.body.2.weight\", \"body.3.body.1.dau_bot.gcnet.conv_mask.weight\", \"body.3.body.1.dau_bot.gcnet.channel_add_conv.0.weight\", \"body.3.body.1.dau_bot.gcnet.channel_add_conv.2.weight\", \"body.3.body.1.down2.body.0.bot.1.weight\", \"body.3.body.1.down4.0.body.0.bot.1.weight\", \"body.3.body.1.down4.1.body.0.bot.1.weight\", \"body.3.body.1.up21_1.body.0.bot.0.weight\", \"body.3.body.1.up21_2.body.0.bot.0.weight\", \"body.3.body.1.up32_1.body.0.bot.0.weight\", \"body.3.body.1.up32_2.body.0.bot.0.weight\", \"body.3.body.1.conv_out.weight\", \"body.3.body.1.skff_top.conv_du.0.weight\", \"body.3.body.1.skff_top.fcs.0.weight\", \"body.3.body.1.skff_top.fcs.1.weight\", \"body.3.body.1.skff_mid.conv_du.0.weight\", \"body.3.body.1.skff_mid.fcs.0.weight\", \"body.3.body.1.skff_mid.fcs.1.weight\", \"body.3.body.2.weight\", \"conv_out.weight\". \n\tUnexpected key(s) in state_dict: \"params\". ",
     "output_type": "error",
     "traceback": [
      "\u001b[1;31m---------------------------------------------------------------------------\u001b[0m",
      "\u001b[1;31mRuntimeError\u001b[0m                              Traceback (most recent call last)",
      "Cell \u001b[1;32mIn[27], line 3\u001b[0m\n\u001b[0;32m      1\u001b[0m pretrained_path \u001b[38;5;241m=\u001b[39m \u001b[38;5;124m\"\u001b[39m\u001b[38;5;124m../MIRNetv2/pretrained_models/enhancement_fivek.pth\u001b[39m\u001b[38;5;124m\"\u001b[39m\n\u001b[0;32m      2\u001b[0m state_dict \u001b[38;5;241m=\u001b[39m torch\u001b[38;5;241m.\u001b[39mload(pretrained_path, map_location\u001b[38;5;241m=\u001b[39mdevice)\n\u001b[1;32m----> 3\u001b[0m \u001b[43mmodel\u001b[49m\u001b[38;5;241;43m.\u001b[39;49m\u001b[43mload_state_dict\u001b[49m\u001b[43m(\u001b[49m\u001b[43mstate_dict\u001b[49m\u001b[43m)\u001b[49m\n",
      "File \u001b[1;32m~\\anaconda3\\envs\\sharpness\\lib\\site-packages\\torch\\nn\\modules\\module.py:1497\u001b[0m, in \u001b[0;36mModule.load_state_dict\u001b[1;34m(self, state_dict, strict)\u001b[0m\n\u001b[0;32m   1492\u001b[0m         error_msgs\u001b[38;5;241m.\u001b[39minsert(\n\u001b[0;32m   1493\u001b[0m             \u001b[38;5;241m0\u001b[39m, \u001b[38;5;124m'\u001b[39m\u001b[38;5;124mMissing key(s) in state_dict: \u001b[39m\u001b[38;5;132;01m{}\u001b[39;00m\u001b[38;5;124m. \u001b[39m\u001b[38;5;124m'\u001b[39m\u001b[38;5;241m.\u001b[39mformat(\n\u001b[0;32m   1494\u001b[0m                 \u001b[38;5;124m'\u001b[39m\u001b[38;5;124m, \u001b[39m\u001b[38;5;124m'\u001b[39m\u001b[38;5;241m.\u001b[39mjoin(\u001b[38;5;124m'\u001b[39m\u001b[38;5;124m\"\u001b[39m\u001b[38;5;132;01m{}\u001b[39;00m\u001b[38;5;124m\"\u001b[39m\u001b[38;5;124m'\u001b[39m\u001b[38;5;241m.\u001b[39mformat(k) \u001b[38;5;28;01mfor\u001b[39;00m k \u001b[38;5;129;01min\u001b[39;00m missing_keys)))\n\u001b[0;32m   1496\u001b[0m \u001b[38;5;28;01mif\u001b[39;00m \u001b[38;5;28mlen\u001b[39m(error_msgs) \u001b[38;5;241m>\u001b[39m \u001b[38;5;241m0\u001b[39m:\n\u001b[1;32m-> 1497\u001b[0m     \u001b[38;5;28;01mraise\u001b[39;00m \u001b[38;5;167;01mRuntimeError\u001b[39;00m(\u001b[38;5;124m'\u001b[39m\u001b[38;5;124mError(s) in loading state_dict for \u001b[39m\u001b[38;5;132;01m{}\u001b[39;00m\u001b[38;5;124m:\u001b[39m\u001b[38;5;130;01m\\n\u001b[39;00m\u001b[38;5;130;01m\\t\u001b[39;00m\u001b[38;5;132;01m{}\u001b[39;00m\u001b[38;5;124m'\u001b[39m\u001b[38;5;241m.\u001b[39mformat(\n\u001b[0;32m   1498\u001b[0m                        \u001b[38;5;28mself\u001b[39m\u001b[38;5;241m.\u001b[39m\u001b[38;5;18m__class__\u001b[39m\u001b[38;5;241m.\u001b[39m\u001b[38;5;18m__name__\u001b[39m, \u001b[38;5;124m\"\u001b[39m\u001b[38;5;130;01m\\n\u001b[39;00m\u001b[38;5;130;01m\\t\u001b[39;00m\u001b[38;5;124m\"\u001b[39m\u001b[38;5;241m.\u001b[39mjoin(error_msgs)))\n\u001b[0;32m   1499\u001b[0m \u001b[38;5;28;01mreturn\u001b[39;00m _IncompatibleKeys(missing_keys, unexpected_keys)\n",
      "\u001b[1;31mRuntimeError\u001b[0m: Error(s) in loading state_dict for MIRNet_v2:\n\tMissing key(s) in state_dict: \"conv_in.weight\", \"body.0.body.0.dau_top.body.0.weight\", \"body.0.body.0.dau_top.body.2.weight\", \"body.0.body.0.dau_top.gcnet.conv_mask.weight\", \"body.0.body.0.dau_top.gcnet.channel_add_conv.0.weight\", \"body.0.body.0.dau_top.gcnet.channel_add_conv.2.weight\", \"body.0.body.0.dau_mid.body.0.weight\", \"body.0.body.0.dau_mid.body.2.weight\", \"body.0.body.0.dau_mid.gcnet.conv_mask.weight\", \"body.0.body.0.dau_mid.gcnet.channel_add_conv.0.weight\", \"body.0.body.0.dau_mid.gcnet.channel_add_conv.2.weight\", \"body.0.body.0.dau_bot.body.0.weight\", \"body.0.body.0.dau_bot.body.2.weight\", \"body.0.body.0.dau_bot.gcnet.conv_mask.weight\", \"body.0.body.0.dau_bot.gcnet.channel_add_conv.0.weight\", \"body.0.body.0.dau_bot.gcnet.channel_add_conv.2.weight\", \"body.0.body.0.down2.body.0.bot.1.weight\", \"body.0.body.0.down4.0.body.0.bot.1.weight\", \"body.0.body.0.down4.1.body.0.bot.1.weight\", \"body.0.body.0.up21_1.body.0.bot.0.weight\", \"body.0.body.0.up21_2.body.0.bot.0.weight\", \"body.0.body.0.up32_1.body.0.bot.0.weight\", \"body.0.body.0.up32_2.body.0.bot.0.weight\", \"body.0.body.0.conv_out.weight\", \"body.0.body.0.skff_top.conv_du.0.weight\", \"body.0.body.0.skff_top.fcs.0.weight\", \"body.0.body.0.skff_top.fcs.1.weight\", \"body.0.body.0.skff_mid.conv_du.0.weight\", \"body.0.body.0.skff_mid.fcs.0.weight\", \"body.0.body.0.skff_mid.fcs.1.weight\", \"body.0.body.1.dau_top.body.0.weight\", \"body.0.body.1.dau_top.body.2.weight\", \"body.0.body.1.dau_top.gcnet.conv_mask.weight\", \"body.0.body.1.dau_top.gcnet.channel_add_conv.0.weight\", \"body.0.body.1.dau_top.gcnet.channel_add_conv.2.weight\", \"body.0.body.1.dau_mid.body.0.weight\", \"body.0.body.1.dau_mid.body.2.weight\", \"body.0.body.1.dau_mid.gcnet.conv_mask.weight\", \"body.0.body.1.dau_mid.gcnet.channel_add_conv.0.weight\", \"body.0.body.1.dau_mid.gcnet.channel_add_conv.2.weight\", \"body.0.body.1.dau_bot.body.0.weight\", \"body.0.body.1.dau_bot.body.2.weight\", \"body.0.body.1.dau_bot.gcnet.conv_mask.weight\", \"body.0.body.1.dau_bot.gcnet.channel_add_conv.0.weight\", \"body.0.body.1.dau_bot.gcnet.channel_add_conv.2.weight\", \"body.0.body.1.down2.body.0.bot.1.weight\", \"body.0.body.1.down4.0.body.0.bot.1.weight\", \"body.0.body.1.down4.1.body.0.bot.1.weight\", \"body.0.body.1.up21_1.body.0.bot.0.weight\", \"body.0.body.1.up21_2.body.0.bot.0.weight\", \"body.0.body.1.up32_1.body.0.bot.0.weight\", \"body.0.body.1.up32_2.body.0.bot.0.weight\", \"body.0.body.1.conv_out.weight\", \"body.0.body.1.skff_top.conv_du.0.weight\", \"body.0.body.1.skff_top.fcs.0.weight\", \"body.0.body.1.skff_top.fcs.1.weight\", \"body.0.body.1.skff_mid.conv_du.0.weight\", \"body.0.body.1.skff_mid.fcs.0.weight\", \"body.0.body.1.skff_mid.fcs.1.weight\", \"body.0.body.2.weight\", \"body.1.body.0.dau_top.body.0.weight\", \"body.1.body.0.dau_top.body.2.weight\", \"body.1.body.0.dau_top.gcnet.conv_mask.weight\", \"body.1.body.0.dau_top.gcnet.channel_add_conv.0.weight\", \"body.1.body.0.dau_top.gcnet.channel_add_conv.2.weight\", \"body.1.body.0.dau_mid.body.0.weight\", \"body.1.body.0.dau_mid.body.2.weight\", \"body.1.body.0.dau_mid.gcnet.conv_mask.weight\", \"body.1.body.0.dau_mid.gcnet.channel_add_conv.0.weight\", \"body.1.body.0.dau_mid.gcnet.channel_add_conv.2.weight\", \"body.1.body.0.dau_bot.body.0.weight\", \"body.1.body.0.dau_bot.body.2.weight\", \"body.1.body.0.dau_bot.gcnet.conv_mask.weight\", \"body.1.body.0.dau_bot.gcnet.channel_add_conv.0.weight\", \"body.1.body.0.dau_bot.gcnet.channel_add_conv.2.weight\", \"body.1.body.0.down2.body.0.bot.1.weight\", \"body.1.body.0.down4.0.body.0.bot.1.weight\", \"body.1.body.0.down4.1.body.0.bot.1.weight\", \"body.1.body.0.up21_1.body.0.bot.0.weight\", \"body.1.body.0.up21_2.body.0.bot.0.weight\", \"body.1.body.0.up32_1.body.0.bot.0.weight\", \"body.1.body.0.up32_2.body.0.bot.0.weight\", \"body.1.body.0.conv_out.weight\", \"body.1.body.0.skff_top.conv_du.0.weight\", \"body.1.body.0.skff_top.fcs.0.weight\", \"body.1.body.0.skff_top.fcs.1.weight\", \"body.1.body.0.skff_mid.conv_du.0.weight\", \"body.1.body.0.skff_mid.fcs.0.weight\", \"body.1.body.0.skff_mid.fcs.1.weight\", \"body.1.body.1.dau_top.body.0.weight\", \"body.1.body.1.dau_top.body.2.weight\", \"body.1.body.1.dau_top.gcnet.conv_mask.weight\", \"body.1.body.1.dau_top.gcnet.channel_add_conv.0.weight\", \"body.1.body.1.dau_top.gcnet.channel_add_conv.2.weight\", \"body.1.body.1.dau_mid.body.0.weight\", \"body.1.body.1.dau_mid.body.2.weight\", \"body.1.body.1.dau_mid.gcnet.conv_mask.weight\", \"body.1.body.1.dau_mid.gcnet.channel_add_conv.0.weight\", \"body.1.body.1.dau_mid.gcnet.channel_add_conv.2.weight\", \"body.1.body.1.dau_bot.body.0.weight\", \"body.1.body.1.dau_bot.body.2.weight\", \"body.1.body.1.dau_bot.gcnet.conv_mask.weight\", \"body.1.body.1.dau_bot.gcnet.channel_add_conv.0.weight\", \"body.1.body.1.dau_bot.gcnet.channel_add_conv.2.weight\", \"body.1.body.1.down2.body.0.bot.1.weight\", \"body.1.body.1.down4.0.body.0.bot.1.weight\", \"body.1.body.1.down4.1.body.0.bot.1.weight\", \"body.1.body.1.up21_1.body.0.bot.0.weight\", \"body.1.body.1.up21_2.body.0.bot.0.weight\", \"body.1.body.1.up32_1.body.0.bot.0.weight\", \"body.1.body.1.up32_2.body.0.bot.0.weight\", \"body.1.body.1.conv_out.weight\", \"body.1.body.1.skff_top.conv_du.0.weight\", \"body.1.body.1.skff_top.fcs.0.weight\", \"body.1.body.1.skff_top.fcs.1.weight\", \"body.1.body.1.skff_mid.conv_du.0.weight\", \"body.1.body.1.skff_mid.fcs.0.weight\", \"body.1.body.1.skff_mid.fcs.1.weight\", \"body.1.body.2.weight\", \"body.2.body.0.dau_top.body.0.weight\", \"body.2.body.0.dau_top.body.2.weight\", \"body.2.body.0.dau_top.gcnet.conv_mask.weight\", \"body.2.body.0.dau_top.gcnet.channel_add_conv.0.weight\", \"body.2.body.0.dau_top.gcnet.channel_add_conv.2.weight\", \"body.2.body.0.dau_mid.body.0.weight\", \"body.2.body.0.dau_mid.body.2.weight\", \"body.2.body.0.dau_mid.gcnet.conv_mask.weight\", \"body.2.body.0.dau_mid.gcnet.channel_add_conv.0.weight\", \"body.2.body.0.dau_mid.gcnet.channel_add_conv.2.weight\", \"body.2.body.0.dau_bot.body.0.weight\", \"body.2.body.0.dau_bot.body.2.weight\", \"body.2.body.0.dau_bot.gcnet.conv_mask.weight\", \"body.2.body.0.dau_bot.gcnet.channel_add_conv.0.weight\", \"body.2.body.0.dau_bot.gcnet.channel_add_conv.2.weight\", \"body.2.body.0.down2.body.0.bot.1.weight\", \"body.2.body.0.down4.0.body.0.bot.1.weight\", \"body.2.body.0.down4.1.body.0.bot.1.weight\", \"body.2.body.0.up21_1.body.0.bot.0.weight\", \"body.2.body.0.up21_2.body.0.bot.0.weight\", \"body.2.body.0.up32_1.body.0.bot.0.weight\", \"body.2.body.0.up32_2.body.0.bot.0.weight\", \"body.2.body.0.conv_out.weight\", \"body.2.body.0.skff_top.conv_du.0.weight\", \"body.2.body.0.skff_top.fcs.0.weight\", \"body.2.body.0.skff_top.fcs.1.weight\", \"body.2.body.0.skff_mid.conv_du.0.weight\", \"body.2.body.0.skff_mid.fcs.0.weight\", \"body.2.body.0.skff_mid.fcs.1.weight\", \"body.2.body.1.dau_top.body.0.weight\", \"body.2.body.1.dau_top.body.2.weight\", \"body.2.body.1.dau_top.gcnet.conv_mask.weight\", \"body.2.body.1.dau_top.gcnet.channel_add_conv.0.weight\", \"body.2.body.1.dau_top.gcnet.channel_add_conv.2.weight\", \"body.2.body.1.dau_mid.body.0.weight\", \"body.2.body.1.dau_mid.body.2.weight\", \"body.2.body.1.dau_mid.gcnet.conv_mask.weight\", \"body.2.body.1.dau_mid.gcnet.channel_add_conv.0.weight\", \"body.2.body.1.dau_mid.gcnet.channel_add_conv.2.weight\", \"body.2.body.1.dau_bot.body.0.weight\", \"body.2.body.1.dau_bot.body.2.weight\", \"body.2.body.1.dau_bot.gcnet.conv_mask.weight\", \"body.2.body.1.dau_bot.gcnet.channel_add_conv.0.weight\", \"body.2.body.1.dau_bot.gcnet.channel_add_conv.2.weight\", \"body.2.body.1.down2.body.0.bot.1.weight\", \"body.2.body.1.down4.0.body.0.bot.1.weight\", \"body.2.body.1.down4.1.body.0.bot.1.weight\", \"body.2.body.1.up21_1.body.0.bot.0.weight\", \"body.2.body.1.up21_2.body.0.bot.0.weight\", \"body.2.body.1.up32_1.body.0.bot.0.weight\", \"body.2.body.1.up32_2.body.0.bot.0.weight\", \"body.2.body.1.conv_out.weight\", \"body.2.body.1.skff_top.conv_du.0.weight\", \"body.2.body.1.skff_top.fcs.0.weight\", \"body.2.body.1.skff_top.fcs.1.weight\", \"body.2.body.1.skff_mid.conv_du.0.weight\", \"body.2.body.1.skff_mid.fcs.0.weight\", \"body.2.body.1.skff_mid.fcs.1.weight\", \"body.2.body.2.weight\", \"body.3.body.0.dau_top.body.0.weight\", \"body.3.body.0.dau_top.body.2.weight\", \"body.3.body.0.dau_top.gcnet.conv_mask.weight\", \"body.3.body.0.dau_top.gcnet.channel_add_conv.0.weight\", \"body.3.body.0.dau_top.gcnet.channel_add_conv.2.weight\", \"body.3.body.0.dau_mid.body.0.weight\", \"body.3.body.0.dau_mid.body.2.weight\", \"body.3.body.0.dau_mid.gcnet.conv_mask.weight\", \"body.3.body.0.dau_mid.gcnet.channel_add_conv.0.weight\", \"body.3.body.0.dau_mid.gcnet.channel_add_conv.2.weight\", \"body.3.body.0.dau_bot.body.0.weight\", \"body.3.body.0.dau_bot.body.2.weight\", \"body.3.body.0.dau_bot.gcnet.conv_mask.weight\", \"body.3.body.0.dau_bot.gcnet.channel_add_conv.0.weight\", \"body.3.body.0.dau_bot.gcnet.channel_add_conv.2.weight\", \"body.3.body.0.down2.body.0.bot.1.weight\", \"body.3.body.0.down4.0.body.0.bot.1.weight\", \"body.3.body.0.down4.1.body.0.bot.1.weight\", \"body.3.body.0.up21_1.body.0.bot.0.weight\", \"body.3.body.0.up21_2.body.0.bot.0.weight\", \"body.3.body.0.up32_1.body.0.bot.0.weight\", \"body.3.body.0.up32_2.body.0.bot.0.weight\", \"body.3.body.0.conv_out.weight\", \"body.3.body.0.skff_top.conv_du.0.weight\", \"body.3.body.0.skff_top.fcs.0.weight\", \"body.3.body.0.skff_top.fcs.1.weight\", \"body.3.body.0.skff_mid.conv_du.0.weight\", \"body.3.body.0.skff_mid.fcs.0.weight\", \"body.3.body.0.skff_mid.fcs.1.weight\", \"body.3.body.1.dau_top.body.0.weight\", \"body.3.body.1.dau_top.body.2.weight\", \"body.3.body.1.dau_top.gcnet.conv_mask.weight\", \"body.3.body.1.dau_top.gcnet.channel_add_conv.0.weight\", \"body.3.body.1.dau_top.gcnet.channel_add_conv.2.weight\", \"body.3.body.1.dau_mid.body.0.weight\", \"body.3.body.1.dau_mid.body.2.weight\", \"body.3.body.1.dau_mid.gcnet.conv_mask.weight\", \"body.3.body.1.dau_mid.gcnet.channel_add_conv.0.weight\", \"body.3.body.1.dau_mid.gcnet.channel_add_conv.2.weight\", \"body.3.body.1.dau_bot.body.0.weight\", \"body.3.body.1.dau_bot.body.2.weight\", \"body.3.body.1.dau_bot.gcnet.conv_mask.weight\", \"body.3.body.1.dau_bot.gcnet.channel_add_conv.0.weight\", \"body.3.body.1.dau_bot.gcnet.channel_add_conv.2.weight\", \"body.3.body.1.down2.body.0.bot.1.weight\", \"body.3.body.1.down4.0.body.0.bot.1.weight\", \"body.3.body.1.down4.1.body.0.bot.1.weight\", \"body.3.body.1.up21_1.body.0.bot.0.weight\", \"body.3.body.1.up21_2.body.0.bot.0.weight\", \"body.3.body.1.up32_1.body.0.bot.0.weight\", \"body.3.body.1.up32_2.body.0.bot.0.weight\", \"body.3.body.1.conv_out.weight\", \"body.3.body.1.skff_top.conv_du.0.weight\", \"body.3.body.1.skff_top.fcs.0.weight\", \"body.3.body.1.skff_top.fcs.1.weight\", \"body.3.body.1.skff_mid.conv_du.0.weight\", \"body.3.body.1.skff_mid.fcs.0.weight\", \"body.3.body.1.skff_mid.fcs.1.weight\", \"body.3.body.2.weight\", \"conv_out.weight\". \n\tUnexpected key(s) in state_dict: \"params\". "
     ]
    }
   ],
   "source": [
    "pretrained_path = \"../MIRNetv2/pretrained_models/enhancement_fivek.pth\"\n",
    "state_dict = torch.load(pretrained_path, map_location=device)\n",
    "model.load_state_dict(state_dict)"
   ]
  },
  {
   "cell_type": "code",
   "execution_count": 32,
   "id": "2a82f857-6476-4c4b-bb53-4ab28b5c07d0",
   "metadata": {},
   "outputs": [
    {
     "ename": "RuntimeError",
     "evalue": "Error(s) in loading state_dict for MIRNet_v2:\n\tsize mismatch for conv_in.weight: copying a param with shape torch.Size([80, 6, 3, 3]) from checkpoint, the shape in current model is torch.Size([80, 3, 3, 3]).",
     "output_type": "error",
     "traceback": [
      "\u001b[1;31m---------------------------------------------------------------------------\u001b[0m",
      "\u001b[1;31mRuntimeError\u001b[0m                              Traceback (most recent call last)",
      "Cell \u001b[1;32mIn[32], line 48\u001b[0m\n\u001b[0;32m     45\u001b[0m model \u001b[38;5;241m=\u001b[39m model\u001b[38;5;241m.\u001b[39mto(device)\n\u001b[0;32m     47\u001b[0m checkpoint \u001b[38;5;241m=\u001b[39m torch\u001b[38;5;241m.\u001b[39mload(weights, map_location\u001b[38;5;241m=\u001b[39mdevice)  \u001b[38;5;66;03m# Added map_location to load on CPU if needed\u001b[39;00m\n\u001b[1;32m---> 48\u001b[0m \u001b[43mmodel\u001b[49m\u001b[38;5;241;43m.\u001b[39;49m\u001b[43mload_state_dict\u001b[49m\u001b[43m(\u001b[49m\u001b[43mcheckpoint\u001b[49m\u001b[43m[\u001b[49m\u001b[38;5;124;43m'\u001b[39;49m\u001b[38;5;124;43mparams\u001b[39;49m\u001b[38;5;124;43m'\u001b[39;49m\u001b[43m]\u001b[49m\u001b[43m)\u001b[49m\n\u001b[0;32m     49\u001b[0m model\u001b[38;5;241m.\u001b[39meval()\n\u001b[0;32m     51\u001b[0m \u001b[38;5;66;03m# Input LR and HR image paths\u001b[39;00m\n",
      "File \u001b[1;32m~\\anaconda3\\envs\\sharpness\\lib\\site-packages\\torch\\nn\\modules\\module.py:1497\u001b[0m, in \u001b[0;36mModule.load_state_dict\u001b[1;34m(self, state_dict, strict)\u001b[0m\n\u001b[0;32m   1492\u001b[0m         error_msgs\u001b[38;5;241m.\u001b[39minsert(\n\u001b[0;32m   1493\u001b[0m             \u001b[38;5;241m0\u001b[39m, \u001b[38;5;124m'\u001b[39m\u001b[38;5;124mMissing key(s) in state_dict: \u001b[39m\u001b[38;5;132;01m{}\u001b[39;00m\u001b[38;5;124m. \u001b[39m\u001b[38;5;124m'\u001b[39m\u001b[38;5;241m.\u001b[39mformat(\n\u001b[0;32m   1494\u001b[0m                 \u001b[38;5;124m'\u001b[39m\u001b[38;5;124m, \u001b[39m\u001b[38;5;124m'\u001b[39m\u001b[38;5;241m.\u001b[39mjoin(\u001b[38;5;124m'\u001b[39m\u001b[38;5;124m\"\u001b[39m\u001b[38;5;132;01m{}\u001b[39;00m\u001b[38;5;124m\"\u001b[39m\u001b[38;5;124m'\u001b[39m\u001b[38;5;241m.\u001b[39mformat(k) \u001b[38;5;28;01mfor\u001b[39;00m k \u001b[38;5;129;01min\u001b[39;00m missing_keys)))\n\u001b[0;32m   1496\u001b[0m \u001b[38;5;28;01mif\u001b[39;00m \u001b[38;5;28mlen\u001b[39m(error_msgs) \u001b[38;5;241m>\u001b[39m \u001b[38;5;241m0\u001b[39m:\n\u001b[1;32m-> 1497\u001b[0m     \u001b[38;5;28;01mraise\u001b[39;00m \u001b[38;5;167;01mRuntimeError\u001b[39;00m(\u001b[38;5;124m'\u001b[39m\u001b[38;5;124mError(s) in loading state_dict for \u001b[39m\u001b[38;5;132;01m{}\u001b[39;00m\u001b[38;5;124m:\u001b[39m\u001b[38;5;130;01m\\n\u001b[39;00m\u001b[38;5;130;01m\\t\u001b[39;00m\u001b[38;5;132;01m{}\u001b[39;00m\u001b[38;5;124m'\u001b[39m\u001b[38;5;241m.\u001b[39mformat(\n\u001b[0;32m   1498\u001b[0m                        \u001b[38;5;28mself\u001b[39m\u001b[38;5;241m.\u001b[39m\u001b[38;5;18m__class__\u001b[39m\u001b[38;5;241m.\u001b[39m\u001b[38;5;18m__name__\u001b[39m, \u001b[38;5;124m\"\u001b[39m\u001b[38;5;130;01m\\n\u001b[39;00m\u001b[38;5;130;01m\\t\u001b[39;00m\u001b[38;5;124m\"\u001b[39m\u001b[38;5;241m.\u001b[39mjoin(error_msgs)))\n\u001b[0;32m   1499\u001b[0m \u001b[38;5;28;01mreturn\u001b[39;00m _IncompatibleKeys(missing_keys, unexpected_keys)\n",
      "\u001b[1;31mRuntimeError\u001b[0m: Error(s) in loading state_dict for MIRNet_v2:\n\tsize mismatch for conv_in.weight: copying a param with shape torch.Size([80, 6, 3, 3]) from checkpoint, the shape in current model is torch.Size([80, 3, 3, 3])."
     ]
    }
   ],
   "source": [
    "import os\n",
    "import torch\n",
    "import torch.nn.functional as F\n",
    "import torchvision.transforms.functional as TF\n",
    "from runpy import run_path\n",
    "from skimage import img_as_ubyte\n",
    "import cv2\n",
    "import numpy as np\n",
    "from skimage.metrics import peak_signal_noise_ratio as psnr\n",
    "from skimage.metrics import structural_similarity as ssim\n",
    "import matplotlib.pyplot as plt\n",
    "\n",
    "# Define task\n",
    "task = 'deblurring'\n",
    "\n",
    "# Set parameters\n",
    "# Parameters dictionary (I'm assuming this was defined earlier in your code)\n",
    "parameters = {\n",
    "    'inp_channels': 6,\n",
    "    'n_feat': 80,\n",
    "    'chan_factor': 1.5,\n",
    "    'n_RRG': 4,\n",
    "    'n_MRB': 2,\n",
    "    'height': 3,\n",
    "    'width': 2,\n",
    "    'bias': False,\n",
    "    'scale': 1,\n",
    "    'task': task  # Assuming 'task' was defined earlier\n",
    "}\n",
    "\n",
    "def get_weights_and_parameters(task, parameters):\n",
    "    if task == 'deblurring':\n",
    "        weights = os.path.join('..','MIRNetv2', 'pretrained_models', 'dual_pixel_defocus_deblurring.pth')\n",
    "    else:\n",
    "        raise ValueError(\"Only 'deblurring' task is supported in this script.\")\n",
    "    return weights, parameters\n",
    "\n",
    "# Load model\n",
    "weights, parameters = get_weights_and_parameters(task, parameters)\n",
    "load_arch = run_path(os.path.join('..','MIRNetv2','basicsr','models','archs','mirnet_v2_arch.py'))\n",
    "model = load_arch['MIRNet_v2'](**parameters)  # Removed .cuda()\n",
    "\n",
    "# Check if CUDA is available and use it only if it's available\n",
    "device = torch.device('cuda' if torch.cuda.is_available() else 'cpu')\n",
    "model = model.to(device)\n",
    "\n",
    "checkpoint = torch.load(weights, map_location=device)  # Added map_location to load on CPU if needed\n",
    "model.load_state_dict(checkpoint['params'])\n",
    "model.eval()\n",
    "\n",
    "# Input LR and HR image paths\n",
    "lr_img_path = \"C:/Users/manas/image-sharpness/data/patches/LR_patches/0004_037.png\"\n",
    "hr_img_path = \"C:/Users/manas/image-sharpness/data/patches/HR_patches/0004_037.png\"\n",
    "\n",
    "# Load images\n",
    "lr_img = cv2.imread(lr_img_path)\n",
    "lr_img = cv2.cvtColor(lr_img, cv2.COLOR_BGR2RGB)\n",
    "hr_img = cv2.imread(hr_img_path)\n",
    "hr_img = cv2.cvtColor(hr_img, cv2.COLOR_BGR2RGB)\n",
    "\n",
    "# Inference\n",
    "img_input = TF.to_tensor(lr_img).unsqueeze(0).to(device)  # Changed .cuda() to .to(device)\n",
    "with torch.no_grad():\n",
    "    restored = model(img_input)\n",
    "restored = torch.clamp(restored, 0, 1)\n",
    "restored_img = restored.squeeze(0).permute(1, 2, 0).cpu().numpy()\n",
    "restored_img_ubyte = img_as_ubyte(restored_img)\n",
    "\n",
    "# Compute PSNR and SSIM\n",
    "psnr_val = psnr(hr_img, restored_img_ubyte, data_range=255)\n",
    "ssim_val = ssim(hr_img, restored_img_ubyte, channel_axis=2, data_range=255)\n",
    "\n",
    "print(f\"PSNR: {psnr_val:.2f} dB\")\n",
    "print(f\"SSIM: {ssim_val:.4f}\")\n",
    "\n",
    "# Show LR, Restored, HR\n",
    "plt.figure(figsize=(12,4))\n",
    "plt.subplot(1,3,1)\n",
    "plt.imshow(lr_img)\n",
    "plt.title('LR Patch')\n",
    "plt.axis('off')\n",
    "\n",
    "plt.subplot(1,3,2)\n",
    "plt.imshow(restored_img_ubyte)\n",
    "plt.title('Restored Patch')\n",
    "plt.axis('off')\n",
    "\n",
    "plt.subplot(1,3,3)\n",
    "plt.imshow(hr_img)\n",
    "plt.title('HR Patch')\n",
    "plt.axis('off')\n",
    "\n",
    "plt.tight_layout()\n",
    "plt.show()"
   ]
  },
  {
   "cell_type": "code",
   "execution_count": null,
   "id": "218ecf1d-4bc0-4e41-9846-da0941e472fd",
   "metadata": {},
   "outputs": [],
   "source": []
  }
 ],
 "metadata": {
  "kernelspec": {
   "display_name": "Python (sharpness)",
   "language": "python",
   "name": "sharpness"
  },
  "language_info": {
   "codemirror_mode": {
    "name": "ipython",
    "version": 3
   },
   "file_extension": ".py",
   "mimetype": "text/x-python",
   "name": "python",
   "nbconvert_exporter": "python",
   "pygments_lexer": "ipython3",
   "version": "3.10.16"
  }
 },
 "nbformat": 4,
 "nbformat_minor": 5
}
